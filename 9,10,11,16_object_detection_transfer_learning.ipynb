{
 "cells": [
  {
   "cell_type": "markdown",
   "id": "0d6f6cdc",
   "metadata": {},
   "source": [
    "## Object detection using Transfer Learning of CNN architectures\n",
    "* a. Load in a pre-trained CNN model trained on a large dataset \n",
    "* b. Freeze parameters (weights) in model’s lower convolutional layers\n",
    "* c. Add custom classifier with several layers of trainable parameters to model \n",
    "* d. Train classifier layers on training data available for task \n",
    "* e. Fine-tune hyper parameters and unfreeze more layers as needed"
   ]
  },
  {
   "cell_type": "code",
   "execution_count": 5,
   "id": "306e01d0",
   "metadata": {},
   "outputs": [
    {
     "name": "stderr",
     "output_type": "stream",
     "text": [
      "D:\\ANACONDA\\lib\\site-packages\\scipy\\__init__.py:146: UserWarning: A NumPy version >=1.16.5 and <1.23.0 is required for this version of SciPy (detected version 1.24.3\n",
      "  warnings.warn(f\"A NumPy version >={np_minversion} and <{np_maxversion}\"\n"
     ]
    },
    {
     "name": "stdout",
     "output_type": "stream",
     "text": [
      "WARNING:tensorflow:From D:\\ANACONDA\\lib\\site-packages\\keras\\src\\losses.py:2976: The name tf.losses.sparse_softmax_cross_entropy is deprecated. Please use tf.compat.v1.losses.sparse_softmax_cross_entropy instead.\n",
      "\n"
     ]
    }
   ],
   "source": [
    "import tensorflow as tf\n",
    "from tensorflow import keras\n",
    "from tensorflow.keras.applications import VGG16\n",
    "from tensorflow.keras.models import Model\n",
    "from tensorflow.keras.layers import Dense, Flatten\n",
    "from tensorflow.keras.optimizers import Adam\n",
    "from tensorflow.keras.preprocessing.image import ImageDataGenerator\n",
    "import numpy as np"
   ]
  },
  {
   "cell_type": "markdown",
   "id": "cc898c96",
   "metadata": {},
   "source": [
    "## Pre processing img data"
   ]
  },
  {
   "cell_type": "code",
   "execution_count": 6,
   "id": "c4fa34f0",
   "metadata": {},
   "outputs": [
    {
     "name": "stdout",
     "output_type": "stream",
     "text": [
      "Found 9144 images belonging to 102 classes.\n"
     ]
    }
   ],
   "source": [
    "dataset_dir = \"C:/Users/LENOVO/Desktop/SEM 7/DL/DL_Assignments/LP-IV-datasets/Object Detection(Ass6)/caltech-101-img\"\n",
    "dataset_datagen = ImageDataGenerator(\n",
    "    rescale=1.0 / 255,\n",
    ")\n",
    "\n",
    "# here batch_size is the number of images in each batch\n",
    "batch_size = 2000\n",
    "dataset_generator = dataset_datagen.flow_from_directory(\n",
    "    dataset_dir,\n",
    "    target_size=(64, 64),\n",
    "    batch_size=batch_size,\n",
    "    class_mode='categorical'\n",
    ")"
   ]
  },
  {
   "cell_type": "markdown",
   "id": "46679402",
   "metadata": {},
   "source": [
    "## Selecting first batch containing 2000 images as train and second batch containing 2000 images as test data"
   ]
  },
  {
   "cell_type": "code",
   "execution_count": 7,
   "id": "5124ab9f",
   "metadata": {},
   "outputs": [
    {
     "name": "stdout",
     "output_type": "stream",
     "text": [
      "2000\n",
      "2000\n"
     ]
    }
   ],
   "source": [
    "x_train, y_train =  dataset_generator[0]\n",
    "x_test, y_test = dataset_generator[1]\n",
    "\n",
    "print(len(x_train))\n",
    "print(len(x_test))"
   ]
  },
  {
   "cell_type": "markdown",
   "id": "cd0e0d63",
   "metadata": {},
   "source": [
    "## a. Load in a pre-trained CNN model trained on a large dataset"
   ]
  },
  {
   "cell_type": "code",
   "execution_count": 9,
   "id": "5661f18f",
   "metadata": {},
   "outputs": [],
   "source": [
    "weights_path = \"C:/Users/LENOVO/Desktop/SEM 7/DL/DL_Assignments/LP-IV-datasets/Object Detection(Ass6)/vgg16_weights_tf_dim_ordering_tf_kernels_notop.h5\"\n",
    "base_model = VGG16(weights=weights_path, include_top=False, input_shape=(64, 64, 3))"
   ]
  },
  {
   "cell_type": "markdown",
   "id": "44c27b88",
   "metadata": {},
   "source": [
    "## b.Freeze parameters (weights) in model’s lower convolutional layers"
   ]
  },
  {
   "cell_type": "code",
   "execution_count": 10,
   "id": "cf849804",
   "metadata": {},
   "outputs": [],
   "source": [
    "for layer in base_model.layers:\n",
    "   layer.trainable = False"
   ]
  },
  {
   "cell_type": "markdown",
   "id": "0caf400c",
   "metadata": {},
   "source": [
    "## c. Add custom classifier with several layers of trainable parameters to model"
   ]
  },
  {
   "cell_type": "code",
   "execution_count": 17,
   "id": "d11d15bc",
   "metadata": {},
   "outputs": [],
   "source": [
    "x = Flatten()(base_model.output)\n",
    "x = Dense(64, activation='relu')(x)\n",
    "predictions = Dense(102, activation='softmax')(x)\n",
    "\n",
    "# Create the model\n",
    "model = Model(inputs=base_model.input, outputs=predictions)\n",
    "# Compile the model\n",
    "model.compile(optimizer=\"adam\", loss='categorical_crossentropy', metrics=['accuracy'])"
   ]
  },
  {
   "cell_type": "markdown",
   "id": "a5b64634",
   "metadata": {},
   "source": [
    "## d. Train classifier layers on training data available for task"
   ]
  },
  {
   "cell_type": "code",
   "execution_count": 18,
   "id": "8b3c8473",
   "metadata": {},
   "outputs": [
    {
     "name": "stdout",
     "output_type": "stream",
     "text": [
      "Epoch 1/10\n",
      "32/32 [==============================] - 25s 787ms/step - loss: 3.0286 - accuracy: 0.3675 - val_loss: 2.6505 - val_accuracy: 0.4465\n",
      "Epoch 2/10\n",
      "32/32 [==============================] - 25s 776ms/step - loss: 1.7074 - accuracy: 0.6135 - val_loss: 2.2616 - val_accuracy: 0.5290\n",
      "Epoch 3/10\n",
      "32/32 [==============================] - 24s 772ms/step - loss: 0.8860 - accuracy: 0.7900 - val_loss: 2.0663 - val_accuracy: 0.5730\n",
      "Epoch 4/10\n",
      "32/32 [==============================] - 24s 767ms/step - loss: 0.4115 - accuracy: 0.9080 - val_loss: 1.9896 - val_accuracy: 0.5905\n",
      "Epoch 5/10\n",
      "32/32 [==============================] - 24s 762ms/step - loss: 0.1703 - accuracy: 0.9705 - val_loss: 1.9882 - val_accuracy: 0.6055\n",
      "Epoch 6/10\n",
      "32/32 [==============================] - 24s 777ms/step - loss: 0.0641 - accuracy: 0.9950 - val_loss: 2.0713 - val_accuracy: 0.6110\n",
      "Epoch 7/10\n",
      "32/32 [==============================] - 26s 813ms/step - loss: 0.0221 - accuracy: 1.0000 - val_loss: 2.0011 - val_accuracy: 0.6285\n",
      "Epoch 8/10\n",
      "32/32 [==============================] - 24s 776ms/step - loss: 0.0081 - accuracy: 1.0000 - val_loss: 2.0416 - val_accuracy: 0.6330\n",
      "Epoch 9/10\n",
      "32/32 [==============================] - 24s 774ms/step - loss: 0.0054 - accuracy: 1.0000 - val_loss: 2.0756 - val_accuracy: 0.6300\n",
      "Epoch 10/10\n",
      "32/32 [==============================] - 24s 756ms/step - loss: 0.0039 - accuracy: 1.0000 - val_loss: 2.0996 - val_accuracy: 0.6340\n"
     ]
    },
    {
     "data": {
      "text/plain": [
       "<keras.src.callbacks.History at 0x1a2c501e250>"
      ]
     },
     "execution_count": 18,
     "metadata": {},
     "output_type": "execute_result"
    }
   ],
   "source": [
    "# Train the model\n",
    "model.fit(x_train, y_train, batch_size=64, epochs=10, validation_data=(x_test, y_test))"
   ]
  },
  {
   "cell_type": "markdown",
   "id": "83a5782a",
   "metadata": {},
   "source": [
    "## e. Fine-tune hyper parameters and unfreeze more layers as needed"
   ]
  },
  {
   "cell_type": "code",
   "execution_count": 19,
   "id": "c97d4888",
   "metadata": {},
   "outputs": [
    {
     "name": "stdout",
     "output_type": "stream",
     "text": [
      "Epoch 1/10\n",
      "32/32 [==============================] - 25s 766ms/step - loss: 3.1414 - accuracy: 0.3545 - val_loss: 2.4069 - val_accuracy: 0.4780\n",
      "Epoch 2/10\n",
      "32/32 [==============================] - 24s 769ms/step - loss: 1.8221 - accuracy: 0.5665 - val_loss: 1.9102 - val_accuracy: 0.5550\n",
      "Epoch 3/10\n",
      "32/32 [==============================] - 24s 773ms/step - loss: 1.1843 - accuracy: 0.7010 - val_loss: 1.8037 - val_accuracy: 0.5850\n",
      "Epoch 4/10\n",
      "32/32 [==============================] - 24s 767ms/step - loss: 0.6972 - accuracy: 0.8170 - val_loss: 1.6820 - val_accuracy: 0.6060\n",
      "Epoch 5/10\n",
      "32/32 [==============================] - 24s 767ms/step - loss: 0.4520 - accuracy: 0.8715 - val_loss: 1.6738 - val_accuracy: 0.6355\n",
      "Epoch 6/10\n",
      "32/32 [==============================] - 24s 765ms/step - loss: 0.2719 - accuracy: 0.9200 - val_loss: 1.6930 - val_accuracy: 0.6225\n",
      "Epoch 7/10\n",
      "32/32 [==============================] - 24s 764ms/step - loss: 0.1841 - accuracy: 0.9535 - val_loss: 1.7560 - val_accuracy: 0.6210\n",
      "Epoch 8/10\n",
      "32/32 [==============================] - 24s 759ms/step - loss: 0.1145 - accuracy: 0.9710 - val_loss: 1.8187 - val_accuracy: 0.6430\n",
      "Epoch 9/10\n",
      "32/32 [==============================] - 24s 770ms/step - loss: 0.0777 - accuracy: 0.9810 - val_loss: 1.8710 - val_accuracy: 0.6465\n",
      "Epoch 10/10\n",
      "32/32 [==============================] - 24s 769ms/step - loss: 0.0594 - accuracy: 0.9870 - val_loss: 1.9089 - val_accuracy: 0.6395\n"
     ]
    },
    {
     "data": {
      "text/plain": [
       "<keras.src.callbacks.History at 0x1a2c529bac0>"
      ]
     },
     "execution_count": 19,
     "metadata": {},
     "output_type": "execute_result"
    }
   ],
   "source": [
    "base_model = VGG16(weights=weights_path, include_top=False, input_shape=(64, 64, 3))\n",
    "# freeze all layers first\n",
    "for layer in base_model.layers:\n",
    "   layer.trainable = False\n",
    "# unfreeze last 4 layers of base model\n",
    "for layer in base_model.layers[len(base_model.layers) - 2:]:\n",
    "   layer.trainable = True\n",
    "   \n",
    "# fine-tuning hyper parameters\n",
    "x = Flatten()(base_model.output)\n",
    "x = Dense(512, activation='relu')(x)\n",
    "x = tf.keras.layers.Dropout(0.3)(x)\n",
    "predictions = Dense(102, activation='softmax')(x)\n",
    "\n",
    "# Create the model\n",
    "model = Model(inputs=base_model.input, outputs=predictions)\n",
    "# Compile the model\n",
    "model.compile(optimizer=Adam(learning_rate=0.001), loss='categorical_crossentropy', metrics=['accuracy'])\n",
    "# training fine tuned model\n",
    "model.fit(x_train, y_train, batch_size=64, epochs=10, validation_data=(x_test, y_test))"
   ]
  },
  {
   "cell_type": "code",
   "execution_count": 20,
   "id": "6fce222c",
   "metadata": {},
   "outputs": [
    {
     "name": "stdout",
     "output_type": "stream",
     "text": [
      "63/63 [==============================] - 13s 203ms/step\n"
     ]
    }
   ],
   "source": [
    "import matplotlib.pyplot as plt\n",
    "predicted_value = model.predict(x_test)"
   ]
  },
  {
   "cell_type": "code",
   "execution_count": 21,
   "id": "75a9e72e",
   "metadata": {},
   "outputs": [],
   "source": [
    "labels = list(dataset_generator.class_indices.keys())"
   ]
  },
  {
   "cell_type": "code",
   "execution_count": 22,
   "id": "cc85164b",
   "metadata": {},
   "outputs": [
    {
     "name": "stdout",
     "output_type": "stream",
     "text": [
      "Preditcted:  ant\n",
      "Actual:  starfish\n"
     ]
    },
    {
     "data": {
      "image/png": "[encoded data removed]",
      "text/plain": [
       "<Figure size 432x288 with 1 Axes>"
      ]
     },
     "metadata": {
      "needs_background": "light"
     },
     "output_type": "display_data"
    }
   ],
   "source": [
    "n = 1000\n",
    "plt.imshow(x_test[n])\n",
    "print(\"Preditcted: \",labels[np.argmax(predicted_value[n])])\n",
    "print(\"Actual: \", labels[np.argmax(y_test[n])])"
   ]
  },
  {
   "cell_type": "code",
   "execution_count": null,
   "id": "973393fc",
   "metadata": {},
   "outputs": [],
   "source": []
  },
  {
   "cell_type": "code",
   "execution_count": null,
   "id": "6c7389de",
   "metadata": {},
   "outputs": [],
   "source": []
  }
 ],
 "metadata": {
  "kernelspec": {
   "display_name": "Python 3 (ipykernel)",
   "language": "python",
   "name": "python3"
  },
  "language_info": {
   "codemirror_mode": {
    "name": "ipython",
    "version": 3
   },
   "file_extension": ".py",
   "mimetype": "text/x-python",
   "name": "python",
   "nbconvert_exporter": "python",
   "pygments_lexer": "ipython3",
   "version": "3.9.7"
  }
 },
 "nbformat": 4,
 "nbformat_minor": 5
}

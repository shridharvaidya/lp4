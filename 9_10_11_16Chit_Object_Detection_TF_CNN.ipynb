{
 "cells": [
  {
   "cell_type": "code",
   "execution_count": null,
   "id": "5a055c65",
   "metadata": {},
   "outputs": [],
   "source": [
    "# dataset : https://www.kaggle.com/datasets/imbikramsaha/caltech-101\n",
    "# model link : https://www.kaggle.com/datasets/keras/vgg16/"
   ]
  },
  {
   "cell_type": "code",
   "execution_count": 32,
   "id": "1dce5684",
   "metadata": {},
   "outputs": [],
   "source": [
    "import tensorflow as tf\n",
    "from tensorflow import keras\n",
    "import numpy as np"
   ]
  },
  {
   "cell_type": "code",
   "execution_count": 33,
   "id": "7a4047d8",
   "metadata": {},
   "outputs": [],
   "source": [
    "from tensorflow.keras.preprocessing.image import ImageDataGenerator"
   ]
  },
  {
   "cell_type": "code",
   "execution_count": 34,
   "id": "546dbf23",
   "metadata": {},
   "outputs": [
    {
     "name": "stdout",
     "output_type": "stream",
     "text": [
      "Found 9144 images belonging to 102 classes.\n"
     ]
    }
   ],
   "source": [
    "dataset_dir = \"C:\\\\Users\\\\kalya\\\\Downloads\\\\caltech-101-img\\\\caltech-101-img\" #Specifies the directory path where the dataset is located\n",
    "dataset_datagen = ImageDataGenerator(\n",
    "    rescale=1.0 / 255,\n",
    ")\n",
    "#normalises the image\n",
    "\n",
    "# # here batch_size is the number of images in each batch\n",
    "batch_size = 2000\n",
    "dataset_generator = dataset_datagen.flow_from_directory(\n",
    "    dataset_dir,\n",
    "    target_size=(64, 64), #resizes the image into 64 by 64 pixel\n",
    "    batch_size=batch_size, #Sets the batch size for training.\n",
    "    class_mode='categorical' # labels are one-hot encoded\n",
    ")"
   ]
  },
  {
   "cell_type": "code",
   "execution_count": 35,
   "id": "f22f7f30",
   "metadata": {},
   "outputs": [
    {
     "name": "stdout",
     "output_type": "stream",
     "text": [
      "2000\n",
      "2000\n"
     ]
    }
   ],
   "source": [
    "x_train, y_train =  dataset_generator[0]\n",
    "x_test, y_test = dataset_generator[1]\n",
    "\n",
    "print(len(x_train))\n",
    "print(len(x_test))"
   ]
  },
  {
   "cell_type": "code",
   "execution_count": null,
   "id": "76a5878f",
   "metadata": {},
   "outputs": [],
   "source": [
    "from tensorflow.keras.models import Model\n",
    "from tensorflow.keras.layers import Dense, Flatten\n",
    "from tensorflow.keras.optimizers import Adam"
   ]
  },
  {
   "cell_type": "code",
   "execution_count": null,
   "id": "2c599aaa",
   "metadata": {},
   "outputs": [],
   "source": [
    "from tensorflow.keras.applications import VGG16"
   ]
  },
  {
   "cell_type": "code",
   "execution_count": 4,
   "id": "8b9b2d85",
   "metadata": {},
   "outputs": [],
   "source": [
    "weights_path = \"vgg16_weights_tf_dim_ordering_tf_kernels_notop.h5\"\n",
    "base_model = VGG16(weights=weights_path, include_top=False, input_shape=(64, 64, 3))"
   ]
  },
  {
   "cell_type": "code",
   "execution_count": 5,
   "id": "f0892cea",
   "metadata": {},
   "outputs": [],
   "source": [
    "for layer in base_model.layers:\n",
    "   layer.trainable = False"
   ]
  },
  {
   "cell_type": "code",
   "execution_count": 6,
   "id": "b25a0c97",
   "metadata": {},
   "outputs": [],
   "source": [
    "x = Flatten()(base_model.output)\n",
    "# Explanation: This line adds a Flatten layer to the output of the base_model. The Flatten layer is used to transform the 3D tensor output from the convolutional base (which is usually the output of the last convolutional layer) into a 1D tensor. This flattening step is necessary when transitioning from convolutional layers to densely connected layers.\n",
    "# Example: Suppose the output shape of base_model is (7, 7, 512). This means you have a 3D tensor with dimensions 7x7x512. Applying the Flatten layer converts this 3D tensor into a 1D tensor by unraveling the values along the dimensions. In this case, the resulting 1D tensor would have a size of 7 * 7 * 512 = 25088.\n",
    "x = Dense(64, activation='relu')(x)\n",
    "predictions = Dense(102, activation='softmax')(x)\n",
    "\n",
    "# Create the model\n",
    "model = Model(inputs=base_model.input, outputs=predictions)\n",
    "# Compile the model\n",
    "model.compile(optimizer=\"adam\", loss='categorical_crossentropy', metrics=['accuracy'])"
   ]
  },
  {
   "cell_type": "code",
   "execution_count": 7,
   "id": "ba0a99c5",
   "metadata": {},
   "outputs": [
    {
     "name": "stdout",
     "output_type": "stream",
     "text": [
      "Epoch 1/10\n",
      "32/32 [==============================] - 36s 1s/step - loss: 3.9117 - accuracy: 0.2040 - val_loss: 3.4570 - val_accuracy: 0.2705\n",
      "Epoch 2/10\n",
      "32/32 [==============================] - 42s 1s/step - loss: 3.0323 - accuracy: 0.3465 - val_loss: 3.0193 - val_accuracy: 0.3710\n",
      "Epoch 3/10\n",
      "32/32 [==============================] - 45s 1s/step - loss: 2.5625 - accuracy: 0.4510 - val_loss: 2.6903 - val_accuracy: 0.4365\n",
      "Epoch 4/10\n",
      "32/32 [==============================] - 45s 1s/step - loss: 2.1750 - accuracy: 0.5235 - val_loss: 2.4510 - val_accuracy: 0.4695\n",
      "Epoch 5/10\n",
      "32/32 [==============================] - 45s 1s/step - loss: 1.8533 - accuracy: 0.6040 - val_loss: 2.2776 - val_accuracy: 0.4975\n",
      "Epoch 6/10\n",
      "32/32 [==============================] - 45s 1s/step - loss: 1.6174 - accuracy: 0.6480 - val_loss: 2.1455 - val_accuracy: 0.5155\n",
      "Epoch 7/10\n",
      "32/32 [==============================] - 46s 1s/step - loss: 1.4041 - accuracy: 0.6920 - val_loss: 2.0425 - val_accuracy: 0.5295\n",
      "Epoch 8/10\n",
      "32/32 [==============================] - 45s 1s/step - loss: 1.2381 - accuracy: 0.7390 - val_loss: 1.9789 - val_accuracy: 0.5380\n",
      "Epoch 9/10\n",
      "32/32 [==============================] - 45s 1s/step - loss: 1.0968 - accuracy: 0.7610 - val_loss: 1.9254 - val_accuracy: 0.5515\n",
      "Epoch 10/10\n",
      "32/32 [==============================] - 44s 1s/step - loss: 0.9759 - accuracy: 0.7970 - val_loss: 1.8738 - val_accuracy: 0.5600\n"
     ]
    },
    {
     "data": {
      "text/plain": [
       "<keras.src.callbacks.History at 0x212d2a3eed0>"
      ]
     },
     "execution_count": 7,
     "metadata": {},
     "output_type": "execute_result"
    }
   ],
   "source": [
    "model.fit(x_train, y_train, batch_size=64, epochs=10, validation_data=(x_test, y_test))"
   ]
  },
  {
   "cell_type": "code",
   "execution_count": 8,
   "id": "dd74f9db",
   "metadata": {},
   "outputs": [
    {
     "name": "stdout",
     "output_type": "stream",
     "text": [
      "Epoch 1/20\n",
      "32/32 [==============================] - 49s 2s/step - loss: 3.1979 - accuracy: 0.3460 - val_loss: 2.3813 - val_accuracy: 0.4725\n",
      "Epoch 2/20\n",
      "32/32 [==============================] - 48s 2s/step - loss: 1.8469 - accuracy: 0.5655 - val_loss: 2.0121 - val_accuracy: 0.5375\n",
      "Epoch 3/20\n",
      "32/32 [==============================] - 48s 2s/step - loss: 1.2217 - accuracy: 0.6855 - val_loss: 1.7269 - val_accuracy: 0.5950\n",
      "Epoch 4/20\n",
      "32/32 [==============================] - 48s 2s/step - loss: 0.7763 - accuracy: 0.7955 - val_loss: 1.7604 - val_accuracy: 0.5915\n",
      "Epoch 5/20\n",
      "32/32 [==============================] - 2052s 66s/step - loss: 0.4890 - accuracy: 0.8690 - val_loss: 1.7755 - val_accuracy: 0.6110\n",
      "Epoch 6/20\n",
      "32/32 [==============================] - 35s 1s/step - loss: 0.3419 - accuracy: 0.9095 - val_loss: 1.7183 - val_accuracy: 0.6335\n",
      "Epoch 7/20\n",
      "32/32 [==============================] - 39s 1s/step - loss: 0.1842 - accuracy: 0.9515 - val_loss: 1.7142 - val_accuracy: 0.6360\n",
      "Epoch 8/20\n",
      "32/32 [==============================] - 36s 1s/step - loss: 0.1421 - accuracy: 0.9595 - val_loss: 1.8615 - val_accuracy: 0.6260\n",
      "Epoch 9/20\n",
      "32/32 [==============================] - 35s 1s/step - loss: 0.1340 - accuracy: 0.9690 - val_loss: 1.7519 - val_accuracy: 0.6320\n",
      "Epoch 10/20\n",
      "32/32 [==============================] - 36s 1s/step - loss: 0.0690 - accuracy: 0.9835 - val_loss: 2.0277 - val_accuracy: 0.6150\n",
      "Epoch 11/20\n",
      "32/32 [==============================] - 36s 1s/step - loss: 0.0629 - accuracy: 0.9820 - val_loss: 1.8915 - val_accuracy: 0.6230\n",
      "Epoch 12/20\n",
      "32/32 [==============================] - 36s 1s/step - loss: 0.0386 - accuracy: 0.9940 - val_loss: 1.9041 - val_accuracy: 0.6300\n",
      "Epoch 13/20\n",
      "32/32 [==============================] - 41s 1s/step - loss: 0.0275 - accuracy: 0.9915 - val_loss: 1.9535 - val_accuracy: 0.6350\n",
      "Epoch 14/20\n",
      "32/32 [==============================] - 48s 2s/step - loss: 0.0144 - accuracy: 0.9980 - val_loss: 1.8840 - val_accuracy: 0.6410\n",
      "Epoch 15/20\n",
      "32/32 [==============================] - 49s 2s/step - loss: 0.0119 - accuracy: 0.9965 - val_loss: 1.9759 - val_accuracy: 0.6460\n",
      "Epoch 16/20\n",
      "32/32 [==============================] - 48s 2s/step - loss: 0.0168 - accuracy: 0.9965 - val_loss: 1.9639 - val_accuracy: 0.6425\n",
      "Epoch 17/20\n",
      "32/32 [==============================] - 49s 2s/step - loss: 0.0156 - accuracy: 0.9970 - val_loss: 1.9091 - val_accuracy: 0.6460\n",
      "Epoch 18/20\n",
      "32/32 [==============================] - 48s 2s/step - loss: 0.0480 - accuracy: 0.9870 - val_loss: 1.9766 - val_accuracy: 0.6185\n",
      "Epoch 19/20\n",
      "32/32 [==============================] - 48s 2s/step - loss: 0.0229 - accuracy: 0.9950 - val_loss: 1.9760 - val_accuracy: 0.6450\n",
      "Epoch 20/20\n",
      "32/32 [==============================] - 48s 2s/step - loss: 0.0164 - accuracy: 0.9960 - val_loss: 1.9260 - val_accuracy: 0.6480\n"
     ]
    },
    {
     "data": {
      "text/plain": [
       "<keras.src.callbacks.History at 0x212d2f1c590>"
      ]
     },
     "execution_count": 8,
     "metadata": {},
     "output_type": "execute_result"
    }
   ],
   "source": [
    "base_model = VGG16(weights=weights_path, include_top=False, input_shape=(64, 64, 3))\n",
    "# freeze all layers first\n",
    "for layer in base_model.layers:\n",
    "   layer.trainable = False\n",
    "# unfreeze last 4 layers of base model\n",
    "for layer in base_model.layers[len(base_model.layers) - 2:]:\n",
    "   layer.trainable = True\n",
    "# fine-tuning hyper parameters\n",
    "x = Flatten()(base_model.output)\n",
    "x = Dense(512, activation='relu')(x)\n",
    "x = tf.keras.layers.Dropout(0.3)(x)\n",
    "predictions = Dense(102, activation='softmax')(x)\n",
    "\n",
    "# Create the model\n",
    "model = Model(inputs=base_model.input, outputs=predictions)\n",
    "# Compile the model\n",
    "model.compile(optimizer=Adam(learning_rate=0.001), loss='categorical_crossentropy', metrics=['accuracy'])\n",
    "# training fine tuned model\n",
    "model.fit(x_train, y_train, batch_size=64, epochs=20, validation_data=(x_test, y_test))\n"
   ]
  },
  {
   "cell_type": "code",
   "execution_count": 9,
   "id": "9a09850d",
   "metadata": {},
   "outputs": [
    {
     "name": "stdout",
     "output_type": "stream",
     "text": [
      "63/63 [==============================] - 22s 354ms/step\n"
     ]
    }
   ],
   "source": [
    "import matplotlib.pyplot as plt\n",
    "predicted_value = model.predict(x_test)"
   ]
  },
  {
   "cell_type": "code",
   "execution_count": 14,
   "id": "91552a80",
   "metadata": {},
   "outputs": [],
   "source": [
    "labels = list(dataset_generator.class_indices.keys())"
   ]
  },
  {
   "cell_type": "code",
   "execution_count": 31,
   "id": "4b877967",
   "metadata": {},
   "outputs": [
    {
     "name": "stdout",
     "output_type": "stream",
     "text": [
      "Preditcted:  Faces_easy\n",
      "Actual:  Faces_easy\n"
     ]
    },
    {
     "data": {
      "image/png": "[encoded data removed]",
      "text/plain": [
       "<Figure size 640x480 with 1 Axes>"
      ]
     },
     "metadata": {},
     "output_type": "display_data"
    }
   ],
   "source": [
    "n = 887\n",
    "\n",
    "plt.imshow(x_test[n])\n",
    "print(\"Preditcted: \",labels[np.argmax(predicted_value[n])])\n",
    "print(\"Actual: \", labels[np.argmax(y_test[n])])"
   ]
  },
  {
   "cell_type": "code",
   "execution_count": null,
   "id": "6a706e69",
   "metadata": {},
   "outputs": [],
   "source": []
  }
 ],
 "metadata": {
  "kernelspec": {
   "display_name": "Python 3 (ipykernel)",
   "language": "python",
   "name": "python3"
  },
  "language_info": {
   "codemirror_mode": {
    "name": "ipython",
    "version": 3
   },
   "file_extension": ".py",
   "mimetype": "text/x-python",
   "name": "python",
   "nbconvert_exporter": "python",
   "pygments_lexer": "ipython3",
   "version": "3.11.3"
  }
 },
 "nbformat": 4,
 "nbformat_minor": 5
}
